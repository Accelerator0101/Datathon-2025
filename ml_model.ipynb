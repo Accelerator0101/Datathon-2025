{
 "cells": [
  {
   "cell_type": "code",
   "execution_count": 12,
   "id": "cabcc612",
   "metadata": {},
   "outputs": [],
   "source": [
    "import pandas as pd\n",
    "import numpy as np\n",
    "import matplotlib.pyplot as plt\n",
    "from sklearn.linear_model import LinearRegression\n",
    "from sklearn.ensemble import RandomForestRegressor, GradientBoostingRegressor\n",
    "from sklearn.metrics import mean_squared_error\n",
    "from sklearn.base import clone\n",
    "from xgboost import XGBRegressor"
   ]
  },
  {
   "cell_type": "code",
   "execution_count": 3,
   "id": "efc11208",
   "metadata": {},
   "outputs": [
    {
     "name": "stderr",
     "output_type": "stream",
     "text": [
      "/var/folders/8g/35j_hqts3hs05pm_v8g0t4fw0000gn/T/ipykernel_3388/3058511666.py:1: UserWarning: Could not infer format, so each element will be parsed individually, falling back to `dateutil`. To ensure parsing is consistent and as-expected, please specify a format.\n",
      "  df = pd.read_csv(\"Data/clean_data_1.csv\", parse_dates=['InvoiceDate'])\n"
     ]
    }
   ],
   "source": [
    "df = pd.read_csv(\"Data/clean_data_1.csv\", parse_dates=['InvoiceDate'])"
   ]
  },
  {
   "cell_type": "code",
   "execution_count": null,
   "id": "11e1d6f5",
   "metadata": {},
   "outputs": [
    {
     "name": "stdout",
     "output_type": "stream",
     "text": [
      "Forecasting for StockCode: 85123A\n"
     ]
    }
   ],
   "source": [
    "df['Revenue'] = df['Quantity'] * df['UnitPrice']\n",
    "stock_code = df['StockCode'].value_counts().idxmax()  # most frequent product\n",
    "print(f\"Forecasting for StockCode: {stock_code}\")\n"
   ]
  },
  {
   "cell_type": "code",
   "execution_count": 13,
   "id": "e1989263",
   "metadata": {},
   "outputs": [
    {
     "name": "stdout",
     "output_type": "stream",
     "text": [
      "\n",
      "Model evaluation (RMSE):\n",
      "                  RMSE_Quantity  RMSE_Revenue\n",
      "LinearRegression    4259.498684   6344.636927\n",
      "RandomForest        1667.305916   4797.690451\n",
      "GradientBoosting    1634.450746   4389.533610\n",
      "XGBoost             1642.416132   5118.525901\n"
     ]
    }
   ],
   "source": [
    "df_prod = df[df['StockCode'] == stock_code]\n",
    "ts = (\n",
    "    df_prod.set_index('InvoiceDate')\n",
    "    .resample('M')\n",
    "    .agg({'Quantity': 'sum', 'Revenue': 'sum'})\n",
    "    .reset_index()\n",
    ")\n",
    "\n",
    "# Create time-based features\n",
    "ts['month_num'] = ((ts['InvoiceDate'].dt.year - ts['InvoiceDate'].dt.year.min()) * 12\n",
    "                   + ts['InvoiceDate'].dt.month)\n",
    "ts['month_sin'] = np.sin(2 * np.pi * ts['InvoiceDate'].dt.month / 12)\n",
    "ts['month_cos'] = np.cos(2 * np.pi * ts['InvoiceDate'].dt.month / 12)\n",
    "\n",
    "# 5. Train/test split (last 3 months as test)\n",
    "train_ts = ts.iloc[:-3]\n",
    "test_ts = ts.iloc[-3:]\n",
    "\n",
    "X_train = train_ts[['month_num', 'month_sin', 'month_cos']]\n",
    "y_train_qty = train_ts['Quantity']\n",
    "y_train_rev = train_ts['Revenue']\n",
    "\n",
    "X_test = test_ts[['month_num', 'month_sin', 'month_cos']]\n",
    "y_test_qty = test_ts['Quantity']\n",
    "y_test_rev = test_ts['Revenue']\n",
    "\n",
    "base_models = {\n",
    "    'LinearRegression': LinearRegression(),\n",
    "    'RandomForest': RandomForestRegressor(random_state=42),\n",
    "    'GradientBoosting': GradientBoostingRegressor(random_state=42),\n",
    "    'XGBoost'             : XGBRegressor(random_state=42, \n",
    "                                          n_estimators=100,\n",
    "                                          learning_rate=0.1,\n",
    "                                          objective='reg:squarederror')\n",
    "}\n",
    "\n",
    "results = {}\n",
    "for name, base_model in base_models.items():\n",
    "    # Quantity model\n",
    "    model_q = clone(base_model)\n",
    "    model_q.fit(X_train, y_train_qty)\n",
    "    yq_pred = model_q.predict(X_test)\n",
    "    rmse_q = np.sqrt(mean_squared_error(y_test_qty, yq_pred))\n",
    "\n",
    "    # Revenue model\n",
    "    model_r = clone(base_model)\n",
    "    model_r.fit(X_train, y_train_rev)\n",
    "    yr_pred = model_r.predict(X_test)\n",
    "    rmse_r = np.sqrt(mean_squared_error(y_test_rev, yr_pred))\n",
    "\n",
    "    results[name] = {'RMSE_Quantity': rmse_q, 'RMSE_Revenue': rmse_r}\n",
    "\n",
    "results_df = pd.DataFrame(results).T\n",
    "print(\"\\nModel evaluation (RMSE):\")\n",
    "print(results_df)"
   ]
  },
  {
   "cell_type": "code",
   "execution_count": 14,
   "id": "e11aeb91",
   "metadata": {},
   "outputs": [
    {
     "name": "stdout",
     "output_type": "stream",
     "text": [
      "\n",
      "Best model for Quantity: GradientBoosting\n",
      "Best model for Revenue: GradientBoosting\n",
      "\n",
      "Forecast for next 3 months:\n",
      "  InvoiceDate  Predicted_Quantity  Predicted_Revenue\n",
      "0  2012-01-31         2286.945963       10201.402788\n",
      "1  2012-02-29          945.805675        3950.005964\n",
      "2  2012-03-31         1030.360933        4172.283851\n"
     ]
    }
   ],
   "source": [
    "# 7. Retrain best models on full data and forecast next 3 months\n",
    "best_qty_name = results_df['RMSE_Quantity'].idxmin()\n",
    "best_rev_name = results_df['RMSE_Revenue'].idxmin()\n",
    "print(f\"\\nBest model for Quantity: {best_qty_name}\")\n",
    "print(f\"Best model for Revenue: {best_rev_name}\")\n",
    "\n",
    "# Retrain on full series\n",
    "X_full = ts[['month_num', 'month_sin', 'month_cos']]\n",
    "y_full_qty = ts['Quantity']\n",
    "y_full_rev = ts['Revenue']\n",
    "\n",
    "best_qty = clone(base_models[best_qty_name]).fit(X_full, y_full_qty)\n",
    "best_rev = clone(base_models[best_rev_name]).fit(X_full, y_full_rev)\n",
    "\n",
    "# Create future dates\n",
    "last_date = ts['InvoiceDate'].max()\n",
    "future_dates = pd.date_range(last_date + pd.offsets.MonthEnd(1), periods=3, freq='M')\n",
    "future_df = pd.DataFrame({'InvoiceDate': future_dates})\n",
    "future_df['month_num'] = ((future_df['InvoiceDate'].dt.year - ts['InvoiceDate'].dt.year.min()) * 12\n",
    "                          + future_df['InvoiceDate'].dt.month)\n",
    "future_df['month_sin'] = np.sin(2 * np.pi * future_df['InvoiceDate'].dt.month / 12)\n",
    "future_df['month_cos'] = np.cos(2 * np.pi * future_df['InvoiceDate'].dt.month / 12)\n",
    "\n",
    "# Predict next 3 months\n",
    "X_future = future_df[['month_num', 'month_sin', 'month_cos']]\n",
    "future_df['Predicted_Quantity'] = best_qty.predict(X_future)\n",
    "future_df['Predicted_Revenue'] = best_rev.predict(X_future)\n",
    "\n",
    "print(\"\\nForecast for next 3 months:\")\n",
    "print(future_df[['InvoiceDate', 'Predicted_Quantity', 'Predicted_Revenue']])"
   ]
  }
 ],
 "metadata": {
  "kernelspec": {
   "display_name": "base",
   "language": "python",
   "name": "python3"
  },
  "language_info": {
   "codemirror_mode": {
    "name": "ipython",
    "version": 3
   },
   "file_extension": ".py",
   "mimetype": "text/x-python",
   "name": "python",
   "nbconvert_exporter": "python",
   "pygments_lexer": "ipython3",
   "version": "3.11.5"
  }
 },
 "nbformat": 4,
 "nbformat_minor": 5
}
